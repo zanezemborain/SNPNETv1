{
 "cells": [
  {
   "cell_type": "markdown",
   "id": "886bfcc0-5daa-4f2f-8e05-b8ae285eb0ee",
   "metadata": {},
   "source": [
    "Import"
   ]
  },
  {
   "cell_type": "code",
   "execution_count": 36,
   "id": "6b7d74db-f0b7-4809-a589-c043ed3b3c76",
   "metadata": {},
   "outputs": [],
   "source": [
    "#Import Python Packages\n",
    "import PIL\n",
    "from PIL import Image\n",
    "import numpy as np\n",
    "import os\n"
   ]
  },
  {
   "cell_type": "markdown",
   "id": "c4302833-0d04-4dfd-ad75-cb34542d00f7",
   "metadata": {},
   "source": [
    "Load AAR-Net Images"
   ]
  },
  {
   "cell_type": "code",
   "execution_count": 32,
   "id": "f4c42a15-4ec5-41ab-b04a-f25ca1d398a2",
   "metadata": {},
   "outputs": [
    {
     "name": "stdout",
     "output_type": "stream",
     "text": [
      "(410, 384, 384)\n"
     ]
    }
   ],
   "source": [
    "database = 'Training';\n",
    "#database = 'Validation';\n",
    "layer = 'Epithelium';\n",
    "#layer = 'SNP';\n",
    "#layer = 'Stroma';\n",
    "\n",
    "\n",
    "#Paths\n",
    "save_path = r'/hpc/group/viplab/zzz3/SNP_Segmentation/Files/Python/AAR-Net/' \n",
    "img_path = r'/hpc/group/viplab/zzz3/SNP_Segmentation/Files/Raw/AAR-Net/' + database + '/' + layer +'/';\n",
    "\n",
    "\n",
    "\n",
    "#File Names\n",
    "files = sorted(os.listdir(img_path))\n",
    "\n",
    "\n",
    "\n",
    "#Iterate\n",
    "images = [];\n",
    "for fname in files:\n",
    "    \n",
    "    if(fname[0]=='.'):\n",
    "        continue;\n",
    "    \n",
    "    #print(fname)\n",
    " \n",
    "   \n",
    "    #Load Images\n",
    "    image = Image.open(os.path.join(img_path,fname)).convert('L');     \n",
    "    image = np.array(image.resize((384,384), PIL.Image.BILINEAR)).astype(np.float32)\n",
    "    images.append(image);\n",
    "\n",
    "\n",
    "\n",
    "    \n",
    "images = np.array(images);\n",
    "\n",
    "print(np.shape(images))\n",
    "\n",
    "#Save Images\n",
    "np.save(save_path + 'AAR_Net_Images_' + database +'_' + layer + '.npy', images);\n"
   ]
  },
  {
   "cell_type": "markdown",
   "id": "42fe111d-7751-49cf-a1c4-3ea31a55c3e4",
   "metadata": {},
   "source": [
    "Load SNP-Net Images"
   ]
  },
  {
   "cell_type": "code",
   "execution_count": 42,
   "id": "47b31403-4a57-4121-bbdb-7006bec30722",
   "metadata": {},
   "outputs": [
    {
     "name": "stdout",
     "output_type": "stream",
     "text": [
      "(207, 384, 384)\n",
      "(207, 384, 384)\n",
      "(43, 384, 384)\n",
      "[0. 1. 2. 3.]\n",
      "[0. 1. 2. 3.]\n"
     ]
    }
   ],
   "source": [
    "\n",
    "#Paths\n",
    "save_path = r'/hpc/group/viplab/zzz3/SNP_Segmentation/Files/Python/SNP-Net/' \n",
    "img_path = r'/hpc/group/viplab/zzz3/SNP_Segmentation/Files/Raw/SNP-Net/imgs/' \n",
    "mask_path = r'/hpc/group/viplab/zzz3/SNP_Segmentation/Files/Raw/SNP-Net/masks/' \n",
    "mask_other_path = r'/hpc/group/viplab/zzz3/SNP_Segmentation/Files/Raw/SNP-Net/masks_other/' \n",
    "\n",
    "\n",
    "#File Names\n",
    "files = sorted(os.listdir(img_path))\n",
    "\n",
    "\n",
    "\n",
    "#Iterate\n",
    "images = [];\n",
    "masks = [];\n",
    "masks_other = [];\n",
    "other_grader = [];\n",
    "idx = -1;\n",
    "for fname in files:\n",
    "    \n",
    "    #print(fname)\n",
    " \n",
    "    if(fname[0]=='.'):\n",
    "        continue;\n",
    "    else:\n",
    "        idx = idx +1;\n",
    "    #Load Images\n",
    "    image = Image.open(os.path.join(img_path,fname)).convert('L');     \n",
    "    image = np.array(image.resize((384,384), PIL.Image.BILINEAR)).astype(np.float32)\n",
    "    images.append(image);\n",
    "\n",
    "\n",
    "    mask = Image.open(os.path.join(mask_path,fname)).convert('L'); \n",
    "    mask = np.array(mask.resize((384,384), PIL.Image.BILINEAR)).astype(np.float32)\n",
    "    masks.append(np.round(mask/85.0))\n",
    "    \n",
    "    if(os.path.exists(os.path.join(mask_other_path,fname))):\n",
    "        mask_other = Image.open(os.path.join(mask_other_path,fname)).convert('L'); \n",
    "        mask_other = np.array(mask_other.resize((384,384), PIL.Image.BILINEAR)).astype(np.float32)\n",
    "        masks_other.append(np.round(mask_other/85.0))    \n",
    "        other_grader.append(idx)\n",
    "    \n",
    "    \n",
    "images = np.array(images);\n",
    "masks = np.array(masks)\n",
    "masks_other = np.array(masks_other)\n",
    "\n",
    "print(np.shape(images))\n",
    "print(np.shape(masks))\n",
    "print(np.shape(masks_other))\n",
    "print(np.unique(masks))\n",
    "print(np.unique(masks_other))\n",
    "\n",
    "#Save Images\n",
    "np.save(save_path + 'SNP_Net_Images.npy', images);\n",
    "np.save(save_path + 'SNP_Net_Masks.npy', masks);\n",
    "np.save(save_path + 'SNP_Net_Masks_Other.npy', masks_other);\n",
    "np.save(save_path + 'SNP_Net_Other_Grader.npy', other_grader); "
   ]
  },
  {
   "cell_type": "markdown",
   "id": "fa25282e-ecd2-43c0-8376-f1c8affb4215",
   "metadata": {},
   "source": [
    "Load Compression Images"
   ]
  },
  {
   "cell_type": "code",
   "execution_count": 34,
   "id": "cc8a3434-148a-4555-b6c5-6923679d277a",
   "metadata": {},
   "outputs": [
    {
     "name": "stdout",
     "output_type": "stream",
     "text": [
      "(25, 384, 384)\n",
      "(25, 384, 384)\n",
      "[0. 1.]\n"
     ]
    }
   ],
   "source": [
    "#Paths\n",
    "save_path = r'/hpc/group/viplab/zzz3/SNP_Segmentation/Files/Python/SNP-Net/' \n",
    "img_path = r'/hpc/group/viplab/zzz3/SNP_Segmentation/Files/Raw/SNP-Net/imgs_compression/' \n",
    "mask_path = r'/hpc/group/viplab/zzz3/SNP_Segmentation/Files/Raw/SNP-Net/masks_compression/' \n",
    "\n",
    "\n",
    "\n",
    "#File Names\n",
    "files = sorted(os.listdir(img_path))\n",
    "\n",
    "\n",
    "\n",
    "#Iterate\n",
    "images = [];\n",
    "masks = [];\n",
    "for fname in files:\n",
    "    \n",
    "\n",
    "    if(fname[0]=='.'):\n",
    "        continue;    \n",
    "    \n",
    "    #Load Images\n",
    "    image = Image.open(os.path.join(img_path,fname)).convert('L');     \n",
    "    image = np.array(image.resize((384,384), PIL.Image.BILINEAR)).astype(np.float32)\n",
    "    images.append(image);\n",
    "\n",
    "\n",
    "    fname = fname.replace('.jpg','.gif')\n",
    "    mask = Image.open(os.path.join(mask_path,fname)).convert('L'); \n",
    "    mask = np.array(mask.resize((384,384), PIL.Image.BILINEAR)).astype(np.float32)\n",
    "    masks.append(np.round(mask/255.0))\n",
    "    \n",
    "\n",
    "    \n",
    "images = np.array(images);\n",
    "masks = np.array(masks)\n",
    "\n",
    "print(np.shape(images))\n",
    "print(np.shape(masks))\n",
    "print(np.unique(masks))\n",
    "\n",
    "#Save Images\n",
    "np.save(save_path + 'SNP_Net_Images_Compression.npy', images);\n",
    "np.save(save_path + 'SNP_Net_Masks_Compression.npy', masks);"
   ]
  },
  {
   "cell_type": "markdown",
   "id": "dd6cc2e5-4a11-4e1e-afbf-67350ea50158",
   "metadata": {},
   "source": [
    "Save Groups"
   ]
  },
  {
   "cell_type": "code",
   "execution_count": 35,
   "id": "1093d6a7-6a20-4ebd-afe1-457fdee03c80",
   "metadata": {},
   "outputs": [],
   "source": [
    "save_path = r'/hpc/group/viplab/zzz3/SNP_Segmentation/Files/Python/SNP-Net/' \n",
    "\n",
    "PID = [1, 1, 1, 1, 1, 1, 2, 2, 2, 2, 2, 2, 3, 3, 3, 3, 3, 3, 4, 4, 4, 4, 4, 4, 1, 1, 1, 2, 2, 2, 3, 3, 3, 5, 5, 5, 5, 5, 5, 6, 6, 6, 6, 6, 6, 4, 4, 4, 5, 5, 5, 7, 7, 7, 7, 7, 7, 6, 6, 6, 8, 8, 8, 8, 8, 8, 7, 7, 7, 8, 8, 8, 9, 9, 9, 9, 9, 9, 10, 10, 10, 10, 10, 10, 11, 11, 11, 11, 11, 11, 9, 9, 9, 10, 10, 10, 11, 11, 11, 12, 12, 12, 12, 12, 12, 13, 13, 13, 13, 13, 13, 14, 14, 14, 14, 14, 14, 12, 12, 12, 13, 13, 13, 15, 15, 15, 15, 15, 15, 16, 16, 16, 16, 16, 16, 14, 14, 14, 17, 17, 17, 17, 17, 17, 18, 18, 18, 18, 18, 18, 19, 19, 19, 19, 19, 19, 15, 15, 15, 20, 20, 20, 20, 20, 20, 21, 21, 21, 21, 21, 21, 16, 16, 16, 16, 16, 16, 17, 17, 17, 17, 17, 17, 18, 18, 18, 18, 18, 18, 19, 19, 19, 19, 19, 19, 20, 20, 20, 21, 21, 21, 21, 21, 21, 20, 20, 20]\n",
    "PID = np.array(PID) \n",
    "PID = PID-1;\n",
    "\n",
    "#Save Groups\n",
    "np.save(save_path + 'SNP_Net_Groups.npy', PID);"
   ]
  },
  {
   "cell_type": "code",
   "execution_count": null,
   "id": "a79a8a33-f6f3-4a64-9153-d59fd1cea2e4",
   "metadata": {},
   "outputs": [],
   "source": []
  }
 ],
 "metadata": {
  "kernelspec": {
   "display_name": "Python 3",
   "language": "python",
   "name": "python3"
  },
  "language_info": {
   "codemirror_mode": {
    "name": "ipython",
    "version": 3
   },
   "file_extension": ".py",
   "mimetype": "text/x-python",
   "name": "python",
   "nbconvert_exporter": "python",
   "pygments_lexer": "ipython3",
   "version": "3.8.8"
  }
 },
 "nbformat": 4,
 "nbformat_minor": 5
}
